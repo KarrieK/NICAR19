{
 "cells": [
  {
   "cell_type": "markdown",
   "metadata": {},
   "source": [
    "# Python 3: Data cleaning and visualization"
   ]
  },
  {
   "cell_type": "markdown",
   "metadata": {},
   "source": [
    "So you have learned how to import data, clean it up and save as a csv. Time to get our hands dirty and start digging deep\n",
    "\n",
    "## Starting out\n",
    "\n",
    "In  this class we're going to learn how to:\n",
    "* Concatenate two data sets \n",
    "* Identify and clean up messy data data\n",
    "* Interrogate our data and chart our results"
   ]
  },
  {
   "cell_type": "markdown",
   "metadata": {},
   "source": [
    "## Our Data\n",
    "\n",
    "Today we're going to investigate FEC Campaign Finance Data from https://www.fec.gov/data/browse-data/?tab=bulk-data \n",
    "\n",
    "We're going to be cleaning and examining two data sets donations declared by campaign committees between 2015-2016 and 2017-2018. \n",
    "\n",
    "The file has one record per House and Senate campaign committee and shows information about the candidate, total receipts, transfers received from authorized committees, total disbursements, transfers given to authorized committees, cash-on-hand totals, loans and debts, and other financial summary information\n",
    "\n",
    "We'll be using https://www.fec.gov/campaign-finance-data/current-campaigns-house-and-senate-file-description/ as our data dictionary\n",
    "\n"
   ]
  },
  {
   "cell_type": "markdown",
   "metadata": {},
   "source": [
    "### Loading Libraries and reading in data sets. "
   ]
  },
  {
   "cell_type": "code",
   "execution_count": 293,
   "metadata": {},
   "outputs": [],
   "source": [
    "import pandas as pd\n",
    "import matplotlib.pyplot as plt\n",
    "import numpy as np\n",
    "import seaborn as sns\n",
    "import datetime\n",
    "\n",
    "%matplotlib inline\n",
    "\n"
   ]
  },
  {
   "cell_type": "markdown",
   "metadata": {},
   "source": [
    "We're going to read in our two data sets below and take a look at what we have"
   ]
  },
  {
   "cell_type": "code",
   "execution_count": 294,
   "metadata": {},
   "outputs": [
    {
     "data": {
      "text/html": [
       "<div>\n",
       "<style scoped>\n",
       "    .dataframe tbody tr th:only-of-type {\n",
       "        vertical-align: middle;\n",
       "    }\n",
       "\n",
       "    .dataframe tbody tr th {\n",
       "        vertical-align: top;\n",
       "    }\n",
       "\n",
       "    .dataframe thead th {\n",
       "        text-align: right;\n",
       "    }\n",
       "</style>\n",
       "<table border=\"1\" class=\"dataframe\">\n",
       "  <thead>\n",
       "    <tr style=\"text-align: right;\">\n",
       "      <th></th>\n",
       "      <th>CAND_ID</th>\n",
       "      <th>CAND_SURNAME</th>\n",
       "      <th>CAND_FIRSTNAME</th>\n",
       "      <th>CAND_ICI</th>\n",
       "      <th>PTY_CD</th>\n",
       "      <th>CAND_PTY_AFFILIATION</th>\n",
       "      <th>TTL_RECEIPTS</th>\n",
       "      <th>TRANS_FROM_AUTH</th>\n",
       "      <th>TTL_DISB</th>\n",
       "      <th>TRANS_TO_AUTH</th>\n",
       "      <th>...</th>\n",
       "      <th>SPEC_ELECTION</th>\n",
       "      <th>PRIM_ELECTION</th>\n",
       "      <th>RUN_ELECTION</th>\n",
       "      <th>GEN_ELECTION</th>\n",
       "      <th>GEN_ELECTION_PRECENT</th>\n",
       "      <th>OTHER_POL_CMTE_CONTRIB</th>\n",
       "      <th>POL_PTY_CONTRIB</th>\n",
       "      <th>CVG_END_DT</th>\n",
       "      <th>INDIV_REFUNDS</th>\n",
       "      <th>CMTE_REFUNDS</th>\n",
       "    </tr>\n",
       "  </thead>\n",
       "  <tbody>\n",
       "    <tr>\n",
       "      <th>0</th>\n",
       "      <td>H8AK00132</td>\n",
       "      <td>SHEIN</td>\n",
       "      <td>DIMITRI</td>\n",
       "      <td>C</td>\n",
       "      <td>1</td>\n",
       "      <td>DEM</td>\n",
       "      <td>209916.04</td>\n",
       "      <td>0.00</td>\n",
       "      <td>209502.35</td>\n",
       "      <td>0.0</td>\n",
       "      <td>...</td>\n",
       "      <td>NaN</td>\n",
       "      <td>NaN</td>\n",
       "      <td>NaN</td>\n",
       "      <td>NaN</td>\n",
       "      <td>NaN</td>\n",
       "      <td>0.00</td>\n",
       "      <td>0.00</td>\n",
       "      <td>12/31/2018</td>\n",
       "      <td>0.00</td>\n",
       "      <td>0.0</td>\n",
       "    </tr>\n",
       "    <tr>\n",
       "      <th>1</th>\n",
       "      <td>H6AK00045</td>\n",
       "      <td>YOUNG</td>\n",
       "      <td>DONALD E</td>\n",
       "      <td>I</td>\n",
       "      <td>2</td>\n",
       "      <td>REP</td>\n",
       "      <td>1234680.31</td>\n",
       "      <td>0.00</td>\n",
       "      <td>1387687.05</td>\n",
       "      <td>0.0</td>\n",
       "      <td>...</td>\n",
       "      <td>NaN</td>\n",
       "      <td>NaN</td>\n",
       "      <td>NaN</td>\n",
       "      <td>NaN</td>\n",
       "      <td>NaN</td>\n",
       "      <td>559861.90</td>\n",
       "      <td>0.00</td>\n",
       "      <td>12/31/2018</td>\n",
       "      <td>2700.00</td>\n",
       "      <td>500.0</td>\n",
       "    </tr>\n",
       "    <tr>\n",
       "      <th>2</th>\n",
       "      <td>H8AK01031</td>\n",
       "      <td>NELSON</td>\n",
       "      <td>THOMAS JOHN</td>\n",
       "      <td>C</td>\n",
       "      <td>2</td>\n",
       "      <td>REP</td>\n",
       "      <td>9288.48</td>\n",
       "      <td>0.00</td>\n",
       "      <td>8821.97</td>\n",
       "      <td>0.0</td>\n",
       "      <td>...</td>\n",
       "      <td>NaN</td>\n",
       "      <td>NaN</td>\n",
       "      <td>NaN</td>\n",
       "      <td>NaN</td>\n",
       "      <td>NaN</td>\n",
       "      <td>0.00</td>\n",
       "      <td>0.00</td>\n",
       "      <td>12/31/2018</td>\n",
       "      <td>600.00</td>\n",
       "      <td>0.0</td>\n",
       "    </tr>\n",
       "    <tr>\n",
       "      <th>3</th>\n",
       "      <td>H8AK00140</td>\n",
       "      <td>GALVIN</td>\n",
       "      <td>ALYSE</td>\n",
       "      <td>C</td>\n",
       "      <td>3</td>\n",
       "      <td>IND</td>\n",
       "      <td>1949643.68</td>\n",
       "      <td>154.70</td>\n",
       "      <td>1943398.59</td>\n",
       "      <td>0.0</td>\n",
       "      <td>...</td>\n",
       "      <td>NaN</td>\n",
       "      <td>NaN</td>\n",
       "      <td>NaN</td>\n",
       "      <td>NaN</td>\n",
       "      <td>NaN</td>\n",
       "      <td>114833.97</td>\n",
       "      <td>0.00</td>\n",
       "      <td>12/31/2018</td>\n",
       "      <td>8166.36</td>\n",
       "      <td>0.0</td>\n",
       "    </tr>\n",
       "    <tr>\n",
       "      <th>4</th>\n",
       "      <td>H8AL01066</td>\n",
       "      <td>KENNEDY</td>\n",
       "      <td>ROBERT JR.</td>\n",
       "      <td>C</td>\n",
       "      <td>1</td>\n",
       "      <td>DEM</td>\n",
       "      <td>166845.21</td>\n",
       "      <td>0.00</td>\n",
       "      <td>166845.21</td>\n",
       "      <td>0.0</td>\n",
       "      <td>...</td>\n",
       "      <td>NaN</td>\n",
       "      <td>NaN</td>\n",
       "      <td>NaN</td>\n",
       "      <td>NaN</td>\n",
       "      <td>NaN</td>\n",
       "      <td>7750.00</td>\n",
       "      <td>0.00</td>\n",
       "      <td>12/31/2018</td>\n",
       "      <td>0.00</td>\n",
       "      <td>0.0</td>\n",
       "    </tr>\n",
       "    <tr>\n",
       "      <th>5</th>\n",
       "      <td>H8AL01082</td>\n",
       "      <td>MCCONNELL</td>\n",
       "      <td>LIZZETTA HILL</td>\n",
       "      <td>C</td>\n",
       "      <td>1</td>\n",
       "      <td>DEM</td>\n",
       "      <td>5127.00</td>\n",
       "      <td>0.00</td>\n",
       "      <td>6021.00</td>\n",
       "      <td>0.0</td>\n",
       "      <td>...</td>\n",
       "      <td>NaN</td>\n",
       "      <td>NaN</td>\n",
       "      <td>NaN</td>\n",
       "      <td>NaN</td>\n",
       "      <td>NaN</td>\n",
       "      <td>0.00</td>\n",
       "      <td>0.00</td>\n",
       "      <td>06/30/2018</td>\n",
       "      <td>0.00</td>\n",
       "      <td>0.0</td>\n",
       "    </tr>\n",
       "    <tr>\n",
       "      <th>6</th>\n",
       "      <td>H4AL01123</td>\n",
       "      <td>BYRNE</td>\n",
       "      <td>BRADLEY ROBERTS</td>\n",
       "      <td>I</td>\n",
       "      <td>2</td>\n",
       "      <td>REP</td>\n",
       "      <td>1463187.12</td>\n",
       "      <td>63923.25</td>\n",
       "      <td>834780.43</td>\n",
       "      <td>0.0</td>\n",
       "      <td>...</td>\n",
       "      <td>NaN</td>\n",
       "      <td>NaN</td>\n",
       "      <td>NaN</td>\n",
       "      <td>NaN</td>\n",
       "      <td>NaN</td>\n",
       "      <td>1054650.00</td>\n",
       "      <td>663.98</td>\n",
       "      <td>12/31/2018</td>\n",
       "      <td>3050.00</td>\n",
       "      <td>0.0</td>\n",
       "    </tr>\n",
       "    <tr>\n",
       "      <th>7</th>\n",
       "      <td>H8AL02163</td>\n",
       "      <td>WILLIAMS</td>\n",
       "      <td>AUDRI SCOTT 1955</td>\n",
       "      <td>C</td>\n",
       "      <td>1</td>\n",
       "      <td>DEM</td>\n",
       "      <td>35365.02</td>\n",
       "      <td>0.00</td>\n",
       "      <td>35210.22</td>\n",
       "      <td>0.0</td>\n",
       "      <td>...</td>\n",
       "      <td>NaN</td>\n",
       "      <td>NaN</td>\n",
       "      <td>NaN</td>\n",
       "      <td>NaN</td>\n",
       "      <td>NaN</td>\n",
       "      <td>0.00</td>\n",
       "      <td>0.00</td>\n",
       "      <td>06/30/2018</td>\n",
       "      <td>0.00</td>\n",
       "      <td>0.0</td>\n",
       "    </tr>\n",
       "    <tr>\n",
       "      <th>8</th>\n",
       "      <td>H8AL02197</td>\n",
       "      <td>ISNER</td>\n",
       "      <td>TABITHA KAY</td>\n",
       "      <td>C</td>\n",
       "      <td>1</td>\n",
       "      <td>DEM</td>\n",
       "      <td>524941.35</td>\n",
       "      <td>0.00</td>\n",
       "      <td>524941.35</td>\n",
       "      <td>0.0</td>\n",
       "      <td>...</td>\n",
       "      <td>NaN</td>\n",
       "      <td>NaN</td>\n",
       "      <td>NaN</td>\n",
       "      <td>NaN</td>\n",
       "      <td>NaN</td>\n",
       "      <td>8605.00</td>\n",
       "      <td>0.00</td>\n",
       "      <td>12/31/2018</td>\n",
       "      <td>4796.05</td>\n",
       "      <td>1000.0</td>\n",
       "    </tr>\n",
       "    <tr>\n",
       "      <th>9</th>\n",
       "      <td>H0AL02087</td>\n",
       "      <td>ROBY</td>\n",
       "      <td>MARTHA</td>\n",
       "      <td>I</td>\n",
       "      <td>2</td>\n",
       "      <td>REP</td>\n",
       "      <td>2573681.12</td>\n",
       "      <td>85734.19</td>\n",
       "      <td>2277448.83</td>\n",
       "      <td>0.0</td>\n",
       "      <td>...</td>\n",
       "      <td>NaN</td>\n",
       "      <td>NaN</td>\n",
       "      <td>NaN</td>\n",
       "      <td>NaN</td>\n",
       "      <td>NaN</td>\n",
       "      <td>1672691.24</td>\n",
       "      <td>7000.00</td>\n",
       "      <td>12/31/2018</td>\n",
       "      <td>6674.00</td>\n",
       "      <td>2000.0</td>\n",
       "    </tr>\n",
       "  </tbody>\n",
       "</table>\n",
       "<p>10 rows × 31 columns</p>\n",
       "</div>"
      ],
      "text/plain": [
       "     CAND_ID CAND_SURNAME     CAND_FIRSTNAME CAND_ICI  PTY_CD  \\\n",
       "0  H8AK00132        SHEIN            DIMITRI        C       1   \n",
       "1  H6AK00045        YOUNG           DONALD E        I       2   \n",
       "2  H8AK01031       NELSON        THOMAS JOHN        C       2   \n",
       "3  H8AK00140       GALVIN              ALYSE        C       3   \n",
       "4  H8AL01066      KENNEDY         ROBERT JR.        C       1   \n",
       "5  H8AL01082    MCCONNELL      LIZZETTA HILL        C       1   \n",
       "6  H4AL01123        BYRNE    BRADLEY ROBERTS        I       2   \n",
       "7  H8AL02163     WILLIAMS   AUDRI SCOTT 1955        C       1   \n",
       "8  H8AL02197        ISNER        TABITHA KAY        C       1   \n",
       "9  H0AL02087         ROBY             MARTHA        I       2   \n",
       "\n",
       "  CAND_PTY_AFFILIATION  TTL_RECEIPTS   TRANS_FROM_AUTH    TTL_DISB  \\\n",
       "0                  DEM      209916.04             0.00   209502.35   \n",
       "1                  REP     1234680.31             0.00  1387687.05   \n",
       "2                  REP        9288.48             0.00     8821.97   \n",
       "3                  IND     1949643.68           154.70  1943398.59   \n",
       "4                  DEM      166845.21             0.00   166845.21   \n",
       "5                  DEM        5127.00             0.00     6021.00   \n",
       "6                  REP     1463187.12         63923.25   834780.43   \n",
       "7                  DEM       35365.02             0.00    35210.22   \n",
       "8                  DEM      524941.35             0.00   524941.35   \n",
       "9                  REP     2573681.12         85734.19  2277448.83   \n",
       "\n",
       "   TRANS_TO_AUTH     ...       SPEC_ELECTION  PRIM_ELECTION  RUN_ELECTION  \\\n",
       "0            0.0     ...                 NaN            NaN           NaN   \n",
       "1            0.0     ...                 NaN            NaN           NaN   \n",
       "2            0.0     ...                 NaN            NaN           NaN   \n",
       "3            0.0     ...                 NaN            NaN           NaN   \n",
       "4            0.0     ...                 NaN            NaN           NaN   \n",
       "5            0.0     ...                 NaN            NaN           NaN   \n",
       "6            0.0     ...                 NaN            NaN           NaN   \n",
       "7            0.0     ...                 NaN            NaN           NaN   \n",
       "8            0.0     ...                 NaN            NaN           NaN   \n",
       "9            0.0     ...                 NaN            NaN           NaN   \n",
       "\n",
       "   GEN_ELECTION  GEN_ELECTION_PRECENT  OTHER_POL_CMTE_CONTRIB  \\\n",
       "0           NaN                   NaN                    0.00   \n",
       "1           NaN                   NaN               559861.90   \n",
       "2           NaN                   NaN                    0.00   \n",
       "3           NaN                   NaN               114833.97   \n",
       "4           NaN                   NaN                 7750.00   \n",
       "5           NaN                   NaN                    0.00   \n",
       "6           NaN                   NaN              1054650.00   \n",
       "7           NaN                   NaN                    0.00   \n",
       "8           NaN                   NaN                 8605.00   \n",
       "9           NaN                   NaN              1672691.24   \n",
       "\n",
       "   POL_PTY_CONTRIB  CVG_END_DT  INDIV_REFUNDS CMTE_REFUNDS  \n",
       "0             0.00  12/31/2018           0.00          0.0  \n",
       "1             0.00  12/31/2018        2700.00        500.0  \n",
       "2             0.00  12/31/2018         600.00          0.0  \n",
       "3             0.00  12/31/2018        8166.36          0.0  \n",
       "4             0.00  12/31/2018           0.00          0.0  \n",
       "5             0.00  06/30/2018           0.00          0.0  \n",
       "6           663.98  12/31/2018        3050.00          0.0  \n",
       "7             0.00  06/30/2018           0.00          0.0  \n",
       "8             0.00  12/31/2018        4796.05       1000.0  \n",
       "9          7000.00  12/31/2018        6674.00       2000.0  \n",
       "\n",
       "[10 rows x 31 columns]"
      ]
     },
     "execution_count": 294,
     "metadata": {},
     "output_type": "execute_result"
    }
   ],
   "source": [
    "df18 = pd.read_csv('')\n",
    "df18.head(10)"
   ]
  },
  {
   "cell_type": "markdown",
   "metadata": {},
   "source": [
    "To determine how many rows and columns is in our data set we're going to use the .shape argument"
   ]
  },
  {
   "cell_type": "code",
   "execution_count": null,
   "metadata": {},
   "outputs": [],
   "source": []
  },
  {
   "cell_type": "markdown",
   "metadata": {},
   "source": [
    "First thing we need to do is to check the object type for each column using .dtypes"
   ]
  },
  {
   "cell_type": "code",
   "execution_count": null,
   "metadata": {},
   "outputs": [],
   "source": []
  },
  {
   "cell_type": "code",
   "execution_count": 297,
   "metadata": {
    "scrolled": true
   },
   "outputs": [
    {
     "data": {
      "text/html": [
       "<div>\n",
       "<style scoped>\n",
       "    .dataframe tbody tr th:only-of-type {\n",
       "        vertical-align: middle;\n",
       "    }\n",
       "\n",
       "    .dataframe tbody tr th {\n",
       "        vertical-align: top;\n",
       "    }\n",
       "\n",
       "    .dataframe thead th {\n",
       "        text-align: right;\n",
       "    }\n",
       "</style>\n",
       "<table border=\"1\" class=\"dataframe\">\n",
       "  <thead>\n",
       "    <tr style=\"text-align: right;\">\n",
       "      <th></th>\n",
       "      <th>CAND_ID</th>\n",
       "      <th>CAND_SURNAME</th>\n",
       "      <th>CAND_FIRSTNAME</th>\n",
       "      <th>CAND_ICI</th>\n",
       "      <th>PTY_CD</th>\n",
       "      <th>CAND_PTY_AFFILIATION</th>\n",
       "      <th>TTL_RECEIPTS</th>\n",
       "      <th>TRANS_FROM_AUTH</th>\n",
       "      <th>TTL_DISB</th>\n",
       "      <th>TRANS_TO_AUTH</th>\n",
       "      <th>...</th>\n",
       "      <th>SPEC_ELECTION</th>\n",
       "      <th>PRIM_ELECTION</th>\n",
       "      <th>RUN_ELECTION</th>\n",
       "      <th>GEN_ELECTION</th>\n",
       "      <th>GEN_ELECTION_PRECENT</th>\n",
       "      <th>OTHER_POL_CMTE_CONTRIB</th>\n",
       "      <th>POL_PTY_CONTRIB</th>\n",
       "      <th>CVG_END_DT</th>\n",
       "      <th>INDIV_REFUNDS</th>\n",
       "      <th>CMTE_REFUNDS</th>\n",
       "    </tr>\n",
       "  </thead>\n",
       "  <tbody>\n",
       "    <tr>\n",
       "      <th>0</th>\n",
       "      <td>H6AK00045</td>\n",
       "      <td>YOUNG</td>\n",
       "      <td>DONALD E</td>\n",
       "      <td>I</td>\n",
       "      <td>2</td>\n",
       "      <td>REP</td>\n",
       "      <td>1103561.86</td>\n",
       "      <td>0.0</td>\n",
       "      <td>1322055.12</td>\n",
       "      <td>0.0</td>\n",
       "      <td>...</td>\n",
       "      <td>NaN</td>\n",
       "      <td>NaN</td>\n",
       "      <td>NaN</td>\n",
       "      <td>NaN</td>\n",
       "      <td>NaN</td>\n",
       "      <td>459603.99</td>\n",
       "      <td>0.0</td>\n",
       "      <td>12/31/2016</td>\n",
       "      <td>2250.00</td>\n",
       "      <td>3000.00</td>\n",
       "    </tr>\n",
       "    <tr>\n",
       "      <th>1</th>\n",
       "      <td>H6AK00235</td>\n",
       "      <td>LINDBECK</td>\n",
       "      <td>STEVE</td>\n",
       "      <td>NaN</td>\n",
       "      <td>1</td>\n",
       "      <td>DEM</td>\n",
       "      <td>1102309.77</td>\n",
       "      <td>0.0</td>\n",
       "      <td>1098098.09</td>\n",
       "      <td>0.0</td>\n",
       "      <td>...</td>\n",
       "      <td>NaN</td>\n",
       "      <td>NaN</td>\n",
       "      <td>NaN</td>\n",
       "      <td>NaN</td>\n",
       "      <td>NaN</td>\n",
       "      <td>67074.61</td>\n",
       "      <td>5000.0</td>\n",
       "      <td>12/31/2016</td>\n",
       "      <td>884.01</td>\n",
       "      <td>0.00</td>\n",
       "    </tr>\n",
       "    <tr>\n",
       "      <th>2</th>\n",
       "      <td>H4AL01123</td>\n",
       "      <td>BYRNE</td>\n",
       "      <td>BRADLEY ROBERTS</td>\n",
       "      <td>I</td>\n",
       "      <td>2</td>\n",
       "      <td>REP</td>\n",
       "      <td>1367469.77</td>\n",
       "      <td>33152.0</td>\n",
       "      <td>1172750.28</td>\n",
       "      <td>0.0</td>\n",
       "      <td>...</td>\n",
       "      <td>NaN</td>\n",
       "      <td>NaN</td>\n",
       "      <td>NaN</td>\n",
       "      <td>NaN</td>\n",
       "      <td>NaN</td>\n",
       "      <td>843200.00</td>\n",
       "      <td>0.0</td>\n",
       "      <td>12/31/2016</td>\n",
       "      <td>1100.00</td>\n",
       "      <td>0.00</td>\n",
       "    </tr>\n",
       "    <tr>\n",
       "      <th>3</th>\n",
       "      <td>H6AL01060</td>\n",
       "      <td>YOUNG JR</td>\n",
       "      <td>LARRY DEAN</td>\n",
       "      <td>C</td>\n",
       "      <td>2</td>\n",
       "      <td>REP</td>\n",
       "      <td>178766.88</td>\n",
       "      <td>0.0</td>\n",
       "      <td>178474.16</td>\n",
       "      <td>0.0</td>\n",
       "      <td>...</td>\n",
       "      <td>NaN</td>\n",
       "      <td>NaN</td>\n",
       "      <td>NaN</td>\n",
       "      <td>NaN</td>\n",
       "      <td>NaN</td>\n",
       "      <td>0.00</td>\n",
       "      <td>0.0</td>\n",
       "      <td>04/14/2016</td>\n",
       "      <td>0.00</td>\n",
       "      <td>0.00</td>\n",
       "    </tr>\n",
       "    <tr>\n",
       "      <th>4</th>\n",
       "      <td>H6AL02167</td>\n",
       "      <td>MATHIS</td>\n",
       "      <td>NATHAN</td>\n",
       "      <td>C</td>\n",
       "      <td>1</td>\n",
       "      <td>DEM</td>\n",
       "      <td>36844.00</td>\n",
       "      <td>0.0</td>\n",
       "      <td>36844.00</td>\n",
       "      <td>0.0</td>\n",
       "      <td>...</td>\n",
       "      <td>NaN</td>\n",
       "      <td>NaN</td>\n",
       "      <td>NaN</td>\n",
       "      <td>NaN</td>\n",
       "      <td>NaN</td>\n",
       "      <td>0.00</td>\n",
       "      <td>0.0</td>\n",
       "      <td>11/16/2016</td>\n",
       "      <td>0.00</td>\n",
       "      <td>0.00</td>\n",
       "    </tr>\n",
       "    <tr>\n",
       "      <th>5</th>\n",
       "      <td>H0AL02087</td>\n",
       "      <td>ROBY</td>\n",
       "      <td>MARTHA</td>\n",
       "      <td>I</td>\n",
       "      <td>2</td>\n",
       "      <td>REP</td>\n",
       "      <td>1404260.12</td>\n",
       "      <td>0.0</td>\n",
       "      <td>1850535.64</td>\n",
       "      <td>0.0</td>\n",
       "      <td>...</td>\n",
       "      <td>NaN</td>\n",
       "      <td>NaN</td>\n",
       "      <td>NaN</td>\n",
       "      <td>NaN</td>\n",
       "      <td>NaN</td>\n",
       "      <td>828775.00</td>\n",
       "      <td>0.0</td>\n",
       "      <td>12/31/2016</td>\n",
       "      <td>17550.00</td>\n",
       "      <td>4283.03</td>\n",
       "    </tr>\n",
       "    <tr>\n",
       "      <th>6</th>\n",
       "      <td>H6AL02142</td>\n",
       "      <td>GERRITSON</td>\n",
       "      <td>REBECCA (BECKY)</td>\n",
       "      <td>C</td>\n",
       "      <td>2</td>\n",
       "      <td>REP</td>\n",
       "      <td>206908.19</td>\n",
       "      <td>0.0</td>\n",
       "      <td>206908.19</td>\n",
       "      <td>0.0</td>\n",
       "      <td>...</td>\n",
       "      <td>NaN</td>\n",
       "      <td>NaN</td>\n",
       "      <td>NaN</td>\n",
       "      <td>NaN</td>\n",
       "      <td>NaN</td>\n",
       "      <td>11500.00</td>\n",
       "      <td>0.0</td>\n",
       "      <td>09/30/2016</td>\n",
       "      <td>1845.00</td>\n",
       "      <td>0.00</td>\n",
       "    </tr>\n",
       "    <tr>\n",
       "      <th>7</th>\n",
       "      <td>H6AL02159</td>\n",
       "      <td>ROGERS</td>\n",
       "      <td>ROBERT L</td>\n",
       "      <td>C</td>\n",
       "      <td>2</td>\n",
       "      <td>REP</td>\n",
       "      <td>25382.00</td>\n",
       "      <td>0.0</td>\n",
       "      <td>32492.00</td>\n",
       "      <td>0.0</td>\n",
       "      <td>...</td>\n",
       "      <td>NaN</td>\n",
       "      <td>NaN</td>\n",
       "      <td>NaN</td>\n",
       "      <td>NaN</td>\n",
       "      <td>NaN</td>\n",
       "      <td>0.00</td>\n",
       "      <td>0.0</td>\n",
       "      <td>04/15/2016</td>\n",
       "      <td>0.00</td>\n",
       "      <td>0.00</td>\n",
       "    </tr>\n",
       "    <tr>\n",
       "      <th>8</th>\n",
       "      <td>H4AL03061</td>\n",
       "      <td>SMITH</td>\n",
       "      <td>JESSE TREMAIN</td>\n",
       "      <td>C</td>\n",
       "      <td>1</td>\n",
       "      <td>DEM</td>\n",
       "      <td>9810.00</td>\n",
       "      <td>0.0</td>\n",
       "      <td>7348.00</td>\n",
       "      <td>0.0</td>\n",
       "      <td>...</td>\n",
       "      <td>NaN</td>\n",
       "      <td>NaN</td>\n",
       "      <td>NaN</td>\n",
       "      <td>NaN</td>\n",
       "      <td>NaN</td>\n",
       "      <td>0.00</td>\n",
       "      <td>0.0</td>\n",
       "      <td>12/31/2016</td>\n",
       "      <td>0.00</td>\n",
       "      <td>0.00</td>\n",
       "    </tr>\n",
       "    <tr>\n",
       "      <th>9</th>\n",
       "      <td>H2AL03032</td>\n",
       "      <td>ROGERS</td>\n",
       "      <td>MICHAEL DENNIS</td>\n",
       "      <td>I</td>\n",
       "      <td>2</td>\n",
       "      <td>REP</td>\n",
       "      <td>1139022.37</td>\n",
       "      <td>0.0</td>\n",
       "      <td>1071289.42</td>\n",
       "      <td>167500.0</td>\n",
       "      <td>...</td>\n",
       "      <td>NaN</td>\n",
       "      <td>NaN</td>\n",
       "      <td>NaN</td>\n",
       "      <td>NaN</td>\n",
       "      <td>NaN</td>\n",
       "      <td>660800.00</td>\n",
       "      <td>14850.0</td>\n",
       "      <td>12/31/2016</td>\n",
       "      <td>1000.00</td>\n",
       "      <td>200.00</td>\n",
       "    </tr>\n",
       "  </tbody>\n",
       "</table>\n",
       "<p>10 rows × 31 columns</p>\n",
       "</div>"
      ],
      "text/plain": [
       "     CAND_ID CAND_SURNAME    CAND_FIRSTNAME CAND_ICI  PTY_CD  \\\n",
       "0  H6AK00045        YOUNG          DONALD E        I       2   \n",
       "1  H6AK00235     LINDBECK             STEVE      NaN       1   \n",
       "2  H4AL01123        BYRNE   BRADLEY ROBERTS        I       2   \n",
       "3  H6AL01060     YOUNG JR        LARRY DEAN        C       2   \n",
       "4  H6AL02167       MATHIS            NATHAN        C       1   \n",
       "5  H0AL02087         ROBY            MARTHA        I       2   \n",
       "6  H6AL02142    GERRITSON   REBECCA (BECKY)        C       2   \n",
       "7  H6AL02159       ROGERS          ROBERT L        C       2   \n",
       "8  H4AL03061        SMITH     JESSE TREMAIN        C       1   \n",
       "9  H2AL03032       ROGERS    MICHAEL DENNIS        I       2   \n",
       "\n",
       "  CAND_PTY_AFFILIATION  TTL_RECEIPTS   TRANS_FROM_AUTH    TTL_DISB  \\\n",
       "0                  REP     1103561.86              0.0  1322055.12   \n",
       "1                  DEM     1102309.77              0.0  1098098.09   \n",
       "2                  REP     1367469.77          33152.0  1172750.28   \n",
       "3                  REP      178766.88              0.0   178474.16   \n",
       "4                  DEM       36844.00              0.0    36844.00   \n",
       "5                  REP     1404260.12              0.0  1850535.64   \n",
       "6                  REP      206908.19              0.0   206908.19   \n",
       "7                  REP       25382.00              0.0    32492.00   \n",
       "8                  DEM        9810.00              0.0     7348.00   \n",
       "9                  REP     1139022.37              0.0  1071289.42   \n",
       "\n",
       "   TRANS_TO_AUTH     ...       SPEC_ELECTION  PRIM_ELECTION  RUN_ELECTION  \\\n",
       "0            0.0     ...                 NaN            NaN           NaN   \n",
       "1            0.0     ...                 NaN            NaN           NaN   \n",
       "2            0.0     ...                 NaN            NaN           NaN   \n",
       "3            0.0     ...                 NaN            NaN           NaN   \n",
       "4            0.0     ...                 NaN            NaN           NaN   \n",
       "5            0.0     ...                 NaN            NaN           NaN   \n",
       "6            0.0     ...                 NaN            NaN           NaN   \n",
       "7            0.0     ...                 NaN            NaN           NaN   \n",
       "8            0.0     ...                 NaN            NaN           NaN   \n",
       "9       167500.0     ...                 NaN            NaN           NaN   \n",
       "\n",
       "   GEN_ELECTION  GEN_ELECTION_PRECENT  OTHER_POL_CMTE_CONTRIB  \\\n",
       "0           NaN                   NaN               459603.99   \n",
       "1           NaN                   NaN                67074.61   \n",
       "2           NaN                   NaN               843200.00   \n",
       "3           NaN                   NaN                    0.00   \n",
       "4           NaN                   NaN                    0.00   \n",
       "5           NaN                   NaN               828775.00   \n",
       "6           NaN                   NaN                11500.00   \n",
       "7           NaN                   NaN                    0.00   \n",
       "8           NaN                   NaN                    0.00   \n",
       "9           NaN                   NaN               660800.00   \n",
       "\n",
       "   POL_PTY_CONTRIB  CVG_END_DT  INDIV_REFUNDS CMTE_REFUNDS  \n",
       "0              0.0  12/31/2016        2250.00      3000.00  \n",
       "1           5000.0  12/31/2016         884.01         0.00  \n",
       "2              0.0  12/31/2016        1100.00         0.00  \n",
       "3              0.0  04/14/2016           0.00         0.00  \n",
       "4              0.0  11/16/2016           0.00         0.00  \n",
       "5              0.0  12/31/2016       17550.00      4283.03  \n",
       "6              0.0  09/30/2016        1845.00         0.00  \n",
       "7              0.0  04/15/2016           0.00         0.00  \n",
       "8              0.0  12/31/2016           0.00         0.00  \n",
       "9          14850.0  12/31/2016        1000.00       200.00  \n",
       "\n",
       "[10 rows x 31 columns]"
      ]
     },
     "execution_count": 297,
     "metadata": {},
     "output_type": "execute_result"
    }
   ],
   "source": [
    "df16 = pd.read_csv('')\n",
    "df16.head(10)"
   ]
  },
  {
   "cell_type": "code",
   "execution_count": null,
   "metadata": {},
   "outputs": [],
   "source": []
  },
  {
   "cell_type": "code",
   "execution_count": null,
   "metadata": {},
   "outputs": [],
   "source": []
  },
  {
   "cell_type": "markdown",
   "metadata": {},
   "source": [
    "### Concatenating data frames"
   ]
  },
  {
   "cell_type": "code",
   "execution_count": 300,
   "metadata": {},
   "outputs": [],
   "source": [
    "frames = [, ]\n",
    "result = pd.concat(, sort=False)"
   ]
  },
  {
   "cell_type": "markdown",
   "metadata": {},
   "source": [
    "Let's check if that worked using .head(), if we got the right number of rows and columns using .shape and what data types we have using .dtypes"
   ]
  },
  {
   "cell_type": "code",
   "execution_count": null,
   "metadata": {},
   "outputs": [],
   "source": []
  },
  {
   "cell_type": "code",
   "execution_count": null,
   "metadata": {},
   "outputs": [],
   "source": []
  },
  {
   "cell_type": "code",
   "execution_count": null,
   "metadata": {
    "scrolled": true
   },
   "outputs": [],
   "source": []
  },
  {
   "cell_type": "markdown",
   "metadata": {},
   "source": [
    "Let's get some basic stats on our data using .describe"
   ]
  },
  {
   "cell_type": "code",
   "execution_count": null,
   "metadata": {
    "scrolled": true
   },
   "outputs": [],
   "source": [
    "\n"
   ]
  },
  {
   "cell_type": "markdown",
   "metadata": {},
   "source": [
    "### Cleaning data\n",
    "\n",
    "We are going to clean up our data so we can perform a bit of analysis and create some graphs. \n",
    "\n",
    "* Drop unneccessary columns from our data frame\n",
    "* Convert a string to a python datetime object and create a new year column\n",
    "* Convert the 'TTL_RECEIPTS' column from float to integer data type"
   ]
  },
  {
   "cell_type": "markdown",
   "metadata": {},
   "source": [
    "We have a lot of columns, so we should drop some, also we should create a year column so we can look at trends over time. \n",
    "\n"
   ]
  },
  {
   "cell_type": "code",
   "execution_count": 305,
   "metadata": {},
   "outputs": [],
   "source": [
    "del result['']\n",
    "\n"
   ]
  },
  {
   "cell_type": "markdown",
   "metadata": {},
   "source": [
    "Now let's see if that worked using .head()"
   ]
  },
  {
   "cell_type": "code",
   "execution_count": null,
   "metadata": {
    "scrolled": true
   },
   "outputs": [],
   "source": [
    "\n"
   ]
  },
  {
   "cell_type": "markdown",
   "metadata": {},
   "source": [
    "Now we need to convert CVG_END_DT to a datetime object using pd.to_datetime([''])"
   ]
  },
  {
   "cell_type": "code",
   "execution_count": null,
   "metadata": {},
   "outputs": [],
   "source": []
  },
  {
   "cell_type": "markdown",
   "metadata": {},
   "source": [
    "Let's see if that worked"
   ]
  },
  {
   "cell_type": "code",
   "execution_count": null,
   "metadata": {},
   "outputs": [],
   "source": []
  },
  {
   "cell_type": "markdown",
   "metadata": {},
   "source": [
    "Now we're going to create a new column called Year by extracting the year from 'CVG_END_DT\n",
    "\n",
    "result[''] = pd.DatetimeIndex(result['']).year"
   ]
  },
  {
   "cell_type": "code",
   "execution_count": null,
   "metadata": {
    "scrolled": true
   },
   "outputs": [],
   "source": []
  },
  {
   "cell_type": "markdown",
   "metadata": {},
   "source": [
    "Let's see if that worked by using .head()"
   ]
  },
  {
   "cell_type": "code",
   "execution_count": null,
   "metadata": {},
   "outputs": [],
   "source": []
  },
  {
   "cell_type": "markdown",
   "metadata": {},
   "source": [
    "Now we're going to get to work on 'TTL_RECEIPTS', let's give it an easier name to type to start off. \n",
    "\n",
    "result = result.rename(columns={'TTL_RECEIPTS': 'AMOUNT'})"
   ]
  },
  {
   "cell_type": "code",
   "execution_count": null,
   "metadata": {},
   "outputs": [],
   "source": []
  },
  {
   "cell_type": "markdown",
   "metadata": {},
   "source": [
    "What's happening? Let's check our column names to make sure there aren't any trail spaces using the .columns "
   ]
  },
  {
   "cell_type": "code",
   "execution_count": null,
   "metadata": {},
   "outputs": [],
   "source": []
  },
  {
   "cell_type": "markdown",
   "metadata": {},
   "source": [
    "Let's try again"
   ]
  },
  {
   "cell_type": "code",
   "execution_count": null,
   "metadata": {},
   "outputs": [],
   "source": []
  },
  {
   "cell_type": "markdown",
   "metadata": {},
   "source": [
    "Did that work? Let's use .head() to check"
   ]
  },
  {
   "cell_type": "code",
   "execution_count": null,
   "metadata": {},
   "outputs": [],
   "source": []
  },
  {
   "cell_type": "markdown",
   "metadata": {},
   "source": [
    "Our 'AMOUNT' column is a float, let's make calculations easier and convert that float to an integer using \n",
    "\n",
    "result['AMOUNT'] = result['AMOUNT'].astype('int64', copy=False)"
   ]
  },
  {
   "cell_type": "code",
   "execution_count": null,
   "metadata": {},
   "outputs": [],
   "source": []
  },
  {
   "cell_type": "code",
   "execution_count": null,
   "metadata": {},
   "outputs": [],
   "source": []
  },
  {
   "cell_type": "markdown",
   "metadata": {},
   "source": [
    "## Analysis and Charts\n",
    "Let's start interrogating our data, asking questions and creating a few charts. "
   ]
  },
  {
   "cell_type": "markdown",
   "metadata": {},
   "source": [
    "### How much money was claimed between 2015 and 2018?\n",
    "\n",
    ".sum()"
   ]
  },
  {
   "cell_type": "code",
   "execution_count": null,
   "metadata": {},
   "outputs": [],
   "source": []
  },
  {
   "cell_type": "markdown",
   "metadata": {},
   "source": [
    "### Who received the most money?\n",
    "\n",
    "result.groupby('')[''].sum().sort_values(ascending=False).head(10)"
   ]
  },
  {
   "cell_type": "code",
   "execution_count": null,
   "metadata": {},
   "outputs": [],
   "source": []
  },
  {
   "cell_type": "markdown",
   "metadata": {},
   "source": [
    "But who is candidate P00003392? Let's use df.loc to figure that out"
   ]
  },
  {
   "cell_type": "code",
   "execution_count": null,
   "metadata": {},
   "outputs": [],
   "source": []
  },
  {
   "cell_type": "markdown",
   "metadata": {},
   "source": [
    "### Which year was the highest amount claimed? \n",
    "\n",
    "result.groupby('')[''].sum().sort_values(ascending=False)\n"
   ]
  },
  {
   "cell_type": "markdown",
   "metadata": {},
   "source": [
    "### Which party has the highest number of claimants?\n",
    "\n",
    ".value_counts()"
   ]
  },
  {
   "cell_type": "code",
   "execution_count": null,
   "metadata": {},
   "outputs": [],
   "source": []
  },
  {
   "cell_type": "markdown",
   "metadata": {},
   "source": [
    "### Dems got the highest number of donations but which party got the most money?\n",
    "\n",
    "result.groupby('')[''].sum().sort_values(ascending=False)\n"
   ]
  },
  {
   "cell_type": "code",
   "execution_count": null,
   "metadata": {},
   "outputs": [],
   "source": []
  },
  {
   "cell_type": "markdown",
   "metadata": {},
   "source": [
    "### Now let's graph our work"
   ]
  },
  {
   "cell_type": "markdown",
   "metadata": {},
   "source": [
    "Let's create a bar chart of total amount claimed per party"
   ]
  },
  {
   "cell_type": "code",
   "execution_count": null,
   "metadata": {},
   "outputs": [],
   "source": [
    "parties = result.groupby('')[''].sum().sort_values(ascending=False)\n",
    "parties.plot(kind=\"bar\")"
   ]
  },
  {
   "cell_type": "markdown",
   "metadata": {},
   "source": [
    "Now let's see if we can build on that \n",
    "\n",
    "annual_received = result.groupby(['CAND_PTY_AFFILIATION', 'YEAR'])['AMOUNT'].sum().unstack().sort_values(2019).head(10)\n",
    "annual_received.plot(kind=\"bar\")"
   ]
  },
  {
   "cell_type": "code",
   "execution_count": null,
   "metadata": {
    "scrolled": true
   },
   "outputs": [],
   "source": [
    "\n"
   ]
  },
  {
   "cell_type": "code",
   "execution_count": null,
   "metadata": {},
   "outputs": [],
   "source": []
  },
  {
   "cell_type": "code",
   "execution_count": null,
   "metadata": {},
   "outputs": [],
   "source": []
  },
  {
   "cell_type": "markdown",
   "metadata": {},
   "source": [
    "## Thanks and more resources\n"
   ]
  },
  {
   "cell_type": "markdown",
   "metadata": {},
   "source": [
    "Thanks for participating in our class today! If you have questions please tweet at me @karriekehoe or send me an email at karrie.anne.kehoe@gmail.com\n",
    "\n",
    "Here is some Pandas resources I think are great:\n",
    "\n",
    "* Pandas Cookbook https://github.com/jvns/pandas-cookbook\n",
    "* Greg Reda's intro to Pandas http://www.gregreda.com/2013/10/26/intro-to-pandas-data-structures/\n",
    "* Pandas cheat sheet https://github.com/pandas-dev/pandas/blob/master/doc/cheatsheet/Pandas_Cheat_Sheet.pdf\n",
    "* 19 essential snippets in pandas https://jeffdelaney.me/blog/useful-snippets-in-pandas/"
   ]
  },
  {
   "cell_type": "code",
   "execution_count": null,
   "metadata": {},
   "outputs": [],
   "source": []
  }
 ],
 "metadata": {
  "kernelspec": {
   "display_name": "Python 3",
   "language": "python",
   "name": "python3"
  },
  "language_info": {
   "codemirror_mode": {
    "name": "ipython",
    "version": 3
   },
   "file_extension": ".py",
   "mimetype": "text/x-python",
   "name": "python",
   "nbconvert_exporter": "python",
   "pygments_lexer": "ipython3",
   "version": "3.7.2"
  }
 },
 "nbformat": 4,
 "nbformat_minor": 2
}
